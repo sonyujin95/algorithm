{
  "cells": [
    {
      "cell_type": "code",
      "execution_count": null,
      "metadata": {
        "id": "b_tY9ZBnkFKr"
      },
      "outputs": [],
      "source": [
        "# 선택정렬\n",
        "import random"
      ]
    },
    {
      "cell_type": "code",
      "execution_count": null,
      "metadata": {
        "id": "yxhvoQs4kJaF"
      },
      "outputs": [],
      "source": []
    },
    {
      "cell_type": "code",
      "execution_count": null,
      "metadata": {
        "id": "AwdINPmrkN2m"
      },
      "outputs": [],
      "source": [
        "# 리스트 생성\n",
        "b = [10, 9, 8, 7, 6, 5, 4, 3, 2, 1]"
      ]
    },
    {
      "cell_type": "code",
      "execution_count": null,
      "metadata": {
        "colab": {
          "base_uri": "https://localhost:8080/"
        },
        "id": "dUpO0k8wm56r",
        "outputId": "9f12c40e-9a57-4450-8b48-817333d86e5c"
      },
      "outputs": [
        {
          "name": "stdout",
          "output_type": "stream",
          "text": [
            "[1, 2, 3, 4, 5, 6, 7, 8, 9, 10]\n"
          ]
        }
      ],
      "source": [
        "# 인덱스 최댓값 최솟값을 이용하여 정렬하기\n",
        "for i in range(len(b)-1):\n",
        "  if b[b.index(max(b))] !=  b[len(b)-1]:\n",
        "    b[b.index(min(b))], b[b.index(max(b))] = b[b.index(max(b))], b[b.index(min(b))]\n",
        "  elif b[b.index(max(b)-i-1)] != b[len(b)-i-2]:\n",
        "    b[b.index(min(b)+i)], b[b.index(max(b)-i)] = b[b.index(max(b)-i)], b[b.index(min(b)+i)]\n",
        "print(b)"
      ]
    },
    {
      "cell_type": "code",
      "execution_count": null,
      "metadata": {
        "colab": {
          "base_uri": "https://localhost:8080/"
        },
        "id": "4yER-d1zpL7G",
        "outputId": "a0369b4f-6636-4622-ace5-d4478524a620"
      },
      "outputs": [
        {
          "data": {
            "text/plain": [
              "[1, 9, 8, 7, 6, 5, 4, 3, 2, 10]"
            ]
          },
          "execution_count": 6,
          "metadata": {},
          "output_type": "execute_result"
        }
      ],
      "source": [
        "b"
      ]
    },
    {
      "cell_type": "code",
      "execution_count": null,
      "metadata": {
        "colab": {
          "base_uri": "https://localhost:8080/"
        },
        "id": "QN9fXJzGd8HC",
        "outputId": "9ca29f17-4cce-4eb9-f183-bbda1c31b624"
      },
      "outputs": [
        {
          "name": "stdout",
          "output_type": "stream",
          "text": [
            "[18, 90, 69, 20, 59, 39, 47, 93, 90, 4, 54, 8, 13, 40, 44, 54, 61, 39, 35, 84, 85, 39, 20, 65, 77, 55, 15, 2, 60, 52, 64, 99, 44, 18, 29, 96, 35, 17, 88, 6, 1, 94, 22, 0, 51, 64, 97, 91, 61, 59, 51, 4, 41, 97, 66, 29, 87, 80, 79, 31, 30, 44, 26, 45, 70, 60, 51, 3, 52, 53, 52, 34, 31, 76, 51, 39, 38, 71, 50, 18, 78, 35, 50, 67, 23, 78, 38, 80, 2, 66, 20, 58, 0, 90, 37, 3, 40, 60, 9, 91]\n"
          ]
        }
      ],
      "source": [
        "a = []  # 리스트 생성\n",
        "for i in range(100): # 100개의 수 생성하기\n",
        "  i = random.randint(0, 99)  # 수는 0부터 99까지 100개중에서 임의로 추출하기\n",
        "  a.append(i)  # 리스트에 추가하기\n",
        "print(a)"
      ]
    },
    {
      "cell_type": "code",
      "execution_count": null,
      "metadata": {
        "colab": {
          "base_uri": "https://localhost:8080/"
        },
        "id": "GwyDIwbZdjuU",
        "outputId": "dde375fb-460d-4b10-d328-e8c3c9bf19cb"
      },
      "outputs": [
        {
          "name": "stdout",
          "output_type": "stream",
          "text": [
            "[0, 0, 1, 2, 2, 3, 3, 4, 4, 6, 8, 9, 13, 15, 17, 18, 18, 18, 20, 20, 20, 22, 23, 26, 29, 29, 30, 31, 31, 34, 35, 35, 35, 37, 38, 38, 39, 39, 39, 39, 40, 40, 41, 44, 44, 44, 45, 47, 50, 50, 51, 51, 51, 51, 52, 52, 52, 53, 54, 54, 55, 58, 59, 59, 60, 60, 60, 61, 61, 64, 64, 65, 66, 66, 67, 69, 70, 71, 76, 77, 78, 78, 79, 80, 80, 84, 85, 87, 88, 90, 90, 90, 91, 91, 93, 94, 96, 97, 97, 99]\n"
          ]
        }
      ],
      "source": [
        "for i in range(len(a)):\n",
        "  b = i  # 0 1 2 3...\n",
        "  for j in range(i+1, len(a)):  # 리스트 내의 다음 수와 비교하므로 i보다 1이 커야 한다.\n",
        "    if a[j] < a[b]:  # a[1] < a[0]\n",
        "      b = j   # 0 = 0\n",
        "  a[i], a[b] = a[b], a[i]  # a[i], a[0]  => a[0], a[i]\n",
        "print(a)"
      ]
    },
    {
      "cell_type": "code",
      "execution_count": null,
      "metadata": {
        "id": "4bj_oPDY3YX9"
      },
      "outputs": [],
      "source": []
    }
  ],
  "metadata": {
    "colab": {
      "name": "선택정렬",
      "provenance": []
    },
    "kernelspec": {
      "display_name": "Python 3",
      "name": "python3"
    },
    "language_info": {
      "name": "python"
    }
  },
  "nbformat": 4,
  "nbformat_minor": 0
}
