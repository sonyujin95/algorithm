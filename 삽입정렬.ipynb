{
 "cells": [
  {
   "cell_type": "code",
   "execution_count": 1,
   "metadata": {},
   "outputs": [],
   "source": [
    "import random"
   ]
  },
  {
   "cell_type": "code",
   "execution_count": 2,
   "metadata": {},
   "outputs": [
    {
     "name": "stdout",
     "output_type": "stream",
     "text": [
      "[6, 5, 3, 1, 8, 7, 2, 4]\n"
     ]
    }
   ],
   "source": [
    "c = [6, 5, 3, 1, 8, 7, 2, 4]\n",
    "print(c)"
   ]
  },
  {
   "cell_type": "code",
   "execution_count": 3,
   "metadata": {},
   "outputs": [
    {
     "name": "stdout",
     "output_type": "stream",
     "text": [
      "[1, 2, 3, 4, 5, 6, 7, 8]\n"
     ]
    }
   ],
   "source": [
    "for i in range(len(c)):\n",
    "    key = c[i]  # c[i] 변수 생성\n",
    "    j = i - 1   # i - 1 에 변수 대입\n",
    "    # i - 1  이라서 음수가 나올 수 있기 때문에 0 이상임을 설정하고, 리스트 내 앞의 숫자가 컸을 때 반복.\n",
    "    while j >= 0 and c[j] > key:\n",
    "        c[j+1] = c[j]  # c[j+1] 의 위치 값을 c[j] 로 변경한다.\n",
    "        j -= 1  # j를 -1로 변경한다.\n",
    "    c[j+1] = key  # 리스트의 0번째 위치에 key를 삽입한다.\n",
    "\n",
    "print(c)"
   ]
  },
  {
   "cell_type": "code",
   "execution_count": null,
   "metadata": {},
   "outputs": [],
   "source": []
  }
 ],
 "metadata": {
  "interpreter": {
   "hash": "3c8bd6a2ba2aeab0f16d69f63a302f2c61d2185169fecb49eaeec62ca36aa0a8"
  },
  "kernelspec": {
   "display_name": "Python 3.6.13 ('pre1')",
   "language": "python",
   "name": "python3"
  },
  "language_info": {
   "codemirror_mode": {
    "name": "ipython",
    "version": 3
   },
   "file_extension": ".py",
   "mimetype": "text/x-python",
   "name": "python",
   "nbconvert_exporter": "python",
   "pygments_lexer": "ipython3",
   "version": "3.6.13"
  },
  "orig_nbformat": 4
 },
 "nbformat": 4,
 "nbformat_minor": 2
}
