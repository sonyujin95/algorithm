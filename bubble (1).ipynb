{
  "nbformat": 4,
  "nbformat_minor": 0,
  "metadata": {
    "colab": {
      "name": "bubble.ipynb",
      "provenance": [],
      "collapsed_sections": []
    },
    "kernelspec": {
      "name": "python3",
      "display_name": "Python 3"
    },
    "language_info": {
      "name": "python"
    }
  },
  "cells": [
    {
      "cell_type": "code",
      "execution_count": 1,
      "metadata": {
        "id": "f1Lc3gWB328o"
      },
      "outputs": [],
      "source": [
        "import random"
      ]
    },
    {
      "cell_type": "code",
      "source": [
        "a = []  # 리스트 생성"
      ],
      "metadata": {
        "id": "7dBRxlO034EG"
      },
      "execution_count": 2,
      "outputs": []
    },
    {
      "cell_type": "code",
      "source": [
        "# 난수 100개 생성\n",
        "for i in range(100):\n",
        "  i = random.randint(0, 99)\n",
        "  a.append(i)\n",
        "# print(a[99])\n",
        "print(a)\n",
        "# print(a[0])"
      ],
      "metadata": {
        "colab": {
          "base_uri": "https://localhost:8080/"
        },
        "id": "9Kpc2cvS38Uo",
        "outputId": "d8dcbe5a-a6b1-4a0f-b264-6563049a424b"
      },
      "execution_count": 3,
      "outputs": [
        {
          "output_type": "stream",
          "name": "stdout",
          "text": [
            "[52, 35, 24, 8, 52, 82, 88, 61, 2, 24, 47, 65, 77, 94, 67, 32, 32, 42, 61, 87, 56, 98, 26, 7, 61, 50, 44, 51, 32, 92, 82, 45, 78, 5, 27, 38, 99, 54, 13, 1, 33, 55, 98, 75, 59, 49, 73, 33, 1, 36, 55, 97, 51, 33, 60, 90, 20, 14, 70, 81, 73, 82, 97, 22, 1, 54, 80, 92, 29, 88, 90, 57, 80, 49, 76, 1, 65, 20, 79, 26, 55, 16, 13, 51, 34, 11, 55, 97, 65, 3, 56, 82, 57, 40, 8, 87, 94, 96, 6, 62]\n"
          ]
        }
      ]
    },
    {
      "cell_type": "code",
      "source": [
        "# 단순히 순서대로 나열해주는 코드\n",
        "# print(set(a))"
      ],
      "metadata": {
        "colab": {
          "base_uri": "https://localhost:8080/"
        },
        "id": "ElInim6a4LHY",
        "outputId": "2c57dffb-e7d2-4818-f9d8-ace9c03cb309"
      },
      "execution_count": null,
      "outputs": [
        {
          "output_type": "stream",
          "name": "stdout",
          "text": [
            "{0, 1, 2, 3, 4, 5, 6, 7, 8, 9, 10, 11, 12, 13, 14, 15, 16, 17, 18, 19, 20, 21, 22, 23, 24, 25, 26, 27, 28, 29, 30, 31, 32, 33, 34, 35, 36, 37, 38, 39, 40, 41, 42, 43, 44, 45, 46, 47, 48, 49, 50, 51, 52, 53, 54, 55, 56, 57, 58, 59, 60, 61, 62, 63, 64, 65, 66, 67, 68, 69, 70, 71, 72, 73, 74, 75, 76, 77, 78, 79, 80, 81, 82, 83, 84, 85, 86, 87, 88, 89, 90, 91, 92, 93, 94, 95, 96, 97, 98, 99}\n"
          ]
        }
      ]
    },
    {
      "cell_type": "code",
      "source": [
        "print(len(a))"
      ],
      "metadata": {
        "colab": {
          "base_uri": "https://localhost:8080/"
        },
        "id": "QSGb7n9L6oZN",
        "outputId": "446ba333-d99a-49d7-bcb3-fa894842de04"
      },
      "execution_count": 4,
      "outputs": [
        {
          "output_type": "stream",
          "name": "stdout",
          "text": [
            "100\n"
          ]
        }
      ]
    },
    {
      "cell_type": "code",
      "source": [
        "# 시행착오\n",
        "for j in range(0, 99):\n",
        "  if a[j] > a[j+1]:\n",
        "    a[j], a[j+1] = a[j+1], a[j]\n",
        "  elif a[j] <= a[j+1]:\n",
        "    a[j], a[j+1] = a[j], a[j+1]"
      ],
      "metadata": {
        "id": "AuazmBIISzWL"
      },
      "execution_count": null,
      "outputs": []
    },
    {
      "cell_type": "code",
      "source": [
        "print(a)"
      ],
      "metadata": {
        "colab": {
          "base_uri": "https://localhost:8080/"
        },
        "id": "PnUQmw76TNR2",
        "outputId": "1f10988f-5e52-4ba2-942a-9deb57efcdc3"
      },
      "execution_count": null,
      "outputs": [
        {
          "output_type": "stream",
          "name": "stdout",
          "text": [
            "[0, 67, 55, 19, 73, 15, 31, 8, 73, 13, 0, 2, 63, 65, 74, 39, 67, 1, 56, 22, 23, 71, 35, 78, 4, 78, 58, 7, 66, 2, 15, 77, 43, 89, 67, 14, 72, 59, 31, 64, 43, 90, 80, 81, 25, 54, 68, 11, 86, 27, 61, 60, 8, 84, 33, 95, 61, 93, 47, 24, 75, 32, 50, 95, 58, 92, 39, 27, 51, 50, 62, 24, 39, 96, 64, 86, 58, 87, 25, 79, 35, 64, 84, 9, 24, 2, 74, 79, 55, 43, 19, 78, 17, 48, 54, 83, 36, 60, 85, 96]\n"
          ]
        }
      ]
    },
    {
      "cell_type": "code",
      "source": [
        "# 버블정렬 완성코드\n",
        "for x in range(1000):\n",
        "    for i in range(len(a)-1):\n",
        "        if a[i] < a[i+1]:  # 만약 두 요소 중 뒤의 요소가 더 크면\n",
        "            a[i],a[i+1] = a[i],a[i+1]  # 위치를 그대로 하고\n",
        "        elif a[i] > a[i+1]:  # 두 요소 중에 뒤의 요소가 더 작으면\n",
        "            a[i],a[i+1] = a[i+1],a[i]  # 두 요소의 위치를 바꾼다."
      ],
      "metadata": {
        "id": "ZmE68FbmW0DB"
      },
      "execution_count": 5,
      "outputs": []
    },
    {
      "cell_type": "code",
      "source": [
        "print(a)"
      ],
      "metadata": {
        "colab": {
          "base_uri": "https://localhost:8080/"
        },
        "id": "Etkvm265Wzc-",
        "outputId": "d9d54c18-a42f-4d35-dea5-1ed156df7fef"
      },
      "execution_count": 6,
      "outputs": [
        {
          "output_type": "stream",
          "name": "stdout",
          "text": [
            "[1, 1, 1, 1, 2, 3, 5, 6, 7, 8, 8, 11, 13, 13, 14, 16, 20, 20, 22, 24, 24, 26, 26, 27, 29, 32, 32, 32, 33, 33, 33, 34, 35, 36, 38, 40, 42, 44, 45, 47, 49, 49, 50, 51, 51, 51, 52, 52, 54, 54, 55, 55, 55, 55, 56, 56, 57, 57, 59, 60, 61, 61, 61, 62, 65, 65, 65, 67, 70, 73, 73, 75, 76, 77, 78, 79, 80, 80, 81, 82, 82, 82, 82, 87, 87, 88, 88, 90, 90, 92, 92, 94, 94, 96, 97, 97, 97, 98, 98, 99]\n"
          ]
        }
      ]
    },
    {
      "cell_type": "code",
      "source": [
        ""
      ],
      "metadata": {
        "id": "1OpJZh5O4xla"
      },
      "execution_count": null,
      "outputs": []
    }
  ]
}